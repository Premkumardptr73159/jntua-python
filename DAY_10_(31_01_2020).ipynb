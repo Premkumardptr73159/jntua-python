{
  "nbformat": 4,
  "nbformat_minor": 0,
  "metadata": {
    "colab": {
      "name": "DAY 10 (31-01-2020)",
      "provenance": [],
      "authorship_tag": "ABX9TyOYW6nDe6bRSVMA3iDfD2vB",
      "include_colab_link": true
    },
    "kernelspec": {
      "name": "python3",
      "display_name": "Python 3"
    }
  },
  "cells": [
    {
      "cell_type": "markdown",
      "metadata": {
        "id": "view-in-github",
        "colab_type": "text"
      },
      "source": [
        "<a href=\"https://colab.research.google.com/github/Premkumardptr73159/jntua-python/blob/master/DAY_10_(31_01_2020).ipynb\" target=\"_parent\"><img src=\"https://colab.research.google.com/assets/colab-badge.svg\" alt=\"Open In Colab\"/></a>"
      ]
    },
    {
      "cell_type": "code",
      "metadata": {
        "id": "ZOrEccO8f8SF",
        "colab_type": "code",
        "colab": {
          "base_uri": "https://localhost:8080/",
          "height": 85
        },
        "outputId": "57300407-3d44-4d11-c9b3-cfb35a7db90e"
      },
      "source": [
        "li = [1,2,3,4,5]\n",
        "print(max(li))\n",
        "print(min(li))\n",
        "print (sum(li))\n",
        "print(sum(li)/len(li))"
      ],
      "execution_count": 3,
      "outputs": [
        {
          "output_type": "stream",
          "text": [
            "5\n",
            "1\n",
            "15\n",
            "3.0\n"
          ],
          "name": "stdout"
        }
      ]
    },
    {
      "cell_type": "code",
      "metadata": {
        "id": "j7sbglY_f-61",
        "colab_type": "code",
        "colab": {
          "base_uri": "https://localhost:8080/",
          "height": 68
        },
        "outputId": "386b70a8-993c-4e71-f537-e60f0d3cf6d4"
      },
      "source": [
        "li = [1,2,3,4,5,5,5,5]\n",
        "li.append(56)\n",
        "print(li)\n",
        "li.insert(2,35)\n",
        "print(li)\n",
        "li.count(5)"
      ],
      "execution_count": 12,
      "outputs": [
        {
          "output_type": "stream",
          "text": [
            "[1, 2, 3, 4, 5, 5, 5, 5, 56]\n",
            "[1, 2, 35, 3, 4, 5, 5, 5, 5, 56]\n"
          ],
          "name": "stdout"
        },
        {
          "output_type": "execute_result",
          "data": {
            "text/plain": [
              "4"
            ]
          },
          "metadata": {
            "tags": []
          },
          "execution_count": 12
        }
      ]
    },
    {
      "cell_type": "code",
      "metadata": {
        "id": "UWV_IEvGgzqV",
        "colab_type": "code",
        "colab": {
          "base_uri": "https://localhost:8080/",
          "height": 34
        },
        "outputId": "65dd40b0-5699-4251-b8da-5bdb55418c9a"
      },
      "source": [
        "li = [1,2,3,4,5]\n",
        "li.index(4)\n"
      ],
      "execution_count": 13,
      "outputs": [
        {
          "output_type": "execute_result",
          "data": {
            "text/plain": [
              "3"
            ]
          },
          "metadata": {
            "tags": []
          },
          "execution_count": 13
        }
      ]
    },
    {
      "cell_type": "code",
      "metadata": {
        "id": "SD3-YOeShwFh",
        "colab_type": "code",
        "colab": {
          "base_uri": "https://localhost:8080/",
          "height": 34
        },
        "outputId": "78bad9df-afaa-45b4-a7a7-f163c49e6afc"
      },
      "source": [
        "li = [1,45,67,22,5]\n",
        "li.sort()\n",
        "print(li)"
      ],
      "execution_count": 15,
      "outputs": [
        {
          "output_type": "stream",
          "text": [
            "[1, 5, 22, 45, 67]\n"
          ],
          "name": "stdout"
        }
      ]
    },
    {
      "cell_type": "code",
      "metadata": {
        "id": "5Dyc6znTh5ux",
        "colab_type": "code",
        "colab": {
          "base_uri": "https://localhost:8080/",
          "height": 34
        },
        "outputId": "7ebc220d-1d77-4dab-9732-347107000850"
      },
      "source": [
        "li = [1,45,67,22,5]\n",
        "li.pop(4)\n",
        "print(li)"
      ],
      "execution_count": 17,
      "outputs": [
        {
          "output_type": "stream",
          "text": [
            "[1, 45, 67, 22]\n"
          ],
          "name": "stdout"
        }
      ]
    },
    {
      "cell_type": "code",
      "metadata": {
        "id": "RKNNsRFPiGSg",
        "colab_type": "code",
        "colab": {
          "base_uri": "https://localhost:8080/",
          "height": 51
        },
        "outputId": "f6003b54-5ee8-4655-f02a-14e4ad5f099b"
      },
      "source": [
        "# using function return large number from the list\n",
        "def large(li):\n",
        "  li.sort()\n",
        "  return li[-1]\n",
        "def genericlarge(li,n):\n",
        "  li.sort()\n",
        "  return li[-n]\n",
        "li = [12,43,556,32,21]\n",
        "print(large(li))\n",
        "print(genericlarge(li,3))                                                         "
      ],
      "execution_count": 18,
      "outputs": [
        {
          "output_type": "stream",
          "text": [
            "556\n",
            "32\n"
          ],
          "name": "stdout"
        }
      ]
    },
    {
      "cell_type": "code",
      "metadata": {
        "id": "g8-d_FCIk67R",
        "colab_type": "code",
        "colab": {
          "base_uri": "https://localhost:8080/",
          "height": 51
        },
        "outputId": "21ea08e0-ebc3-496e-991d-da02b19b8dea"
      },
      "source": [
        "def small(li):\n",
        "  li.sort()\n",
        "  return li[0]\n",
        "def genericsmall(li,n):\n",
        "  li.sort()\n",
        "  return li[n-1]\n",
        "li = [12,43,556,32,21]\n",
        "print(small(li))\n",
        "print(genericsmall(li,3))                                                         "
      ],
      "execution_count": 24,
      "outputs": [
        {
          "output_type": "stream",
          "text": [
            "12\n",
            "32\n"
          ],
          "name": "stdout"
        }
      ]
    }
  ]
}