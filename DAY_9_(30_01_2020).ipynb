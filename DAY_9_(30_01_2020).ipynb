{
  "nbformat": 4,
  "nbformat_minor": 0,
  "metadata": {
    "colab": {
      "name": "DAY 9 (30/01/2020)",
      "provenance": [],
      "authorship_tag": "ABX9TyMX1fOmtktzRRl2SGrMLOcM",
      "include_colab_link": true
    },
    "kernelspec": {
      "name": "python3",
      "display_name": "Python 3"
    }
  },
  "cells": [
    {
      "cell_type": "markdown",
      "metadata": {
        "id": "view-in-github",
        "colab_type": "text"
      },
      "source": [
        "<a href=\"https://colab.research.google.com/github/Premkumardptr73159/jntua-python/blob/master/DAY_9_(30_01_2020).ipynb\" target=\"_parent\"><img src=\"https://colab.research.google.com/assets/colab-badge.svg\" alt=\"Open In Colab\"/></a>"
      ]
    },
    {
      "cell_type": "code",
      "metadata": {
        "id": "NJQ7UHhl8IZt",
        "colab_type": "code",
        "colab": {}
      },
      "source": [
        ""
      ],
      "execution_count": 0,
      "outputs": []
    },
    {
      "cell_type": "markdown",
      "metadata": {
        "id": "WKwhGygR9qPK",
        "colab_type": "text"
      },
      "source": [
        "# Markdown \n",
        "## Markdown\n",
        "### Markdown\n",
        "#### Markdown"
      ]
    },
    {
      "cell_type": "markdown",
      "metadata": {
        "id": "FigJF3o_-r6D",
        "colab_type": "text"
      },
      "source": [
        "**Points**\n",
        "\n",
        "*Points*\n",
        "\n",
        "***Points***"
      ]
    },
    {
      "cell_type": "markdown",
      "metadata": {
        "id": "EolMiGsiBrZN",
        "colab_type": "text"
      },
      "source": [
        "*** Adding links to Markdown***\n",
        "\n",
        "[site](https://en.wikipedia.org/wiki/Jawaharlal_Nehru_Technological_University,_Anantapur)"
      ]
    },
    {
      "cell_type": "markdown",
      "metadata": {
        "id": "TuFM1WdNCcSc",
        "colab_type": "text"
      },
      "source": [
        "### Inserting image\n",
        "![text](https://upload.wikimedia.org/wikipedia/commons/thumb/3/31/JNTU_College_of_Engineering_Anantapur.jpg/220px-JNTU_College_of_Engineering_Anantapur.jpg)"
      ]
    },
    {
      "cell_type": "code",
      "metadata": {
        "id": "TFkT4jd_C3qP",
        "colab_type": "code",
        "colab": {}
      },
      "source": [
        ""
      ],
      "execution_count": 0,
      "outputs": []
    },
    {
      "cell_type": "code",
      "metadata": {
        "id": "vM7BG88nDE5Z",
        "colab_type": "code",
        "colab": {
          "base_uri": "https://localhost:8080/",
          "height": 34
        },
        "outputId": "419d8156-62bc-4cc3-d180-71365f3f4364"
      },
      "source": [
        "print(\"hello world!\")"
      ],
      "execution_count": 7,
      "outputs": [
        {
          "output_type": "stream",
          "text": [
            "hello world!\n"
          ],
          "name": "stdout"
        }
      ]
    },
    {
      "cell_type": "code",
      "metadata": {
        "id": "Mc0b1-taIHAg",
        "colab_type": "code",
        "colab": {}
      },
      "source": [
        ""
      ],
      "execution_count": 0,
      "outputs": []
    },
    {
      "cell_type": "code",
      "metadata": {
        "id": "vBex3b8YI2Rd",
        "colab_type": "code",
        "colab": {
          "base_uri": "https://localhost:8080/",
          "height": 34
        },
        "outputId": "7bde81b8-f7c0-4d75-a32c-92f871edbc78"
      },
      "source": [
        "print (\"hello , jntua\")"
      ],
      "execution_count": 13,
      "outputs": [
        {
          "output_type": "stream",
          "text": [
            "hello , jntua\n"
          ],
          "name": "stdout"
        }
      ]
    },
    {
      "cell_type": "code",
      "metadata": {
        "id": "WvKA1Zq0I3VC",
        "colab_type": "code",
        "colab": {
          "base_uri": "https://localhost:8080/",
          "height": 34
        },
        "outputId": "b15dbc7f-4c94-409c-9711-93939d9176e0"
      },
      "source": [
        "print (\"hello , Jntua\",\"|||\",\"chemical\",\"|||\",\"cse\",\"|||\",\"mca\")"
      ],
      "execution_count": 14,
      "outputs": [
        {
          "output_type": "stream",
          "text": [
            "hello , Jntua ||| chemical ||| cse ||| mca\n"
          ],
          "name": "stdout"
        }
      ]
    },
    {
      "cell_type": "code",
      "metadata": {
        "id": "s6SOCQELJV0B",
        "colab_type": "code",
        "colab": {
          "base_uri": "https://localhost:8080/",
          "height": 68
        },
        "outputId": "8755b9e6-9b68-4896-c6be-1cd6a947b4a8"
      },
      "source": [
        "n1 = 100 # single variable assignment\n",
        "print (n1)\n",
        "a = b = c = 10 # multi variable assignment of same variable\n",
        "print  (a,b,c)\n",
        "a1,b1,c1 = 100,200,300 # multiple variable assignment with different values \n",
        "print (a1,b1,c1)"
      ],
      "execution_count": 18,
      "outputs": [
        {
          "output_type": "stream",
          "text": [
            "100\n",
            "10 10 10\n",
            "100 200 300\n"
          ],
          "name": "stdout"
        }
      ]
    },
    {
      "cell_type": "markdown",
      "metadata": {
        "id": "CpgBwPfJKgRy",
        "colab_type": "text"
      },
      "source": [
        "# Data types and conversions\n",
        "* int\n",
        "* float\n",
        "* string"
      ]
    },
    {
      "cell_type": "code",
      "metadata": {
        "id": "J3Mp_oXYKyEl",
        "colab_type": "code",
        "colab": {
          "base_uri": "https://localhost:8080/",
          "height": 34
        },
        "outputId": "b9c34871-9f8c-453e-91f2-177266a937ff"
      },
      "source": [
        "a  = 100\n",
        "s1 = 10.2\n",
        "s2 = \"python\"\n",
        "print (type(a),type(s1),type(s2))"
      ],
      "execution_count": 19,
      "outputs": [
        {
          "output_type": "stream",
          "text": [
            "<class 'int'> <class 'float'> <class 'str'>\n"
          ],
          "name": "stdout"
        }
      ]
    },
    {
      "cell_type": "code",
      "metadata": {
        "id": "m45mNbcFLVdj",
        "colab_type": "code",
        "colab": {
          "base_uri": "https://localhost:8080/",
          "height": 68
        },
        "outputId": "fa300fd5-f4be-4c18-b115-d63c3cc3c01a"
      },
      "source": [
        "i = 100\n",
        "print (type(i))\n",
        "s1 = str(i)\n",
        "print (type(s1))\n",
        "f1 = float(i)\n",
        "print (type(f1))"
      ],
      "execution_count": 21,
      "outputs": [
        {
          "output_type": "stream",
          "text": [
            "<class 'int'>\n",
            "<class 'str'>\n",
            "<class 'float'>\n"
          ],
          "name": "stdout"
        }
      ]
    },
    {
      "cell_type": "code",
      "metadata": {
        "id": "j4WEnReTMQpJ",
        "colab_type": "code",
        "colab": {
          "base_uri": "https://localhost:8080/",
          "height": 34
        },
        "outputId": "65a7efa3-1a30-4b42-de01-f877ddf0d82f"
      },
      "source": [
        "# length \n",
        "a = 123456\n",
        "print (len(str(a)))"
      ],
      "execution_count": 24,
      "outputs": [
        {
          "output_type": "stream",
          "text": [
            "6\n"
          ],
          "name": "stdout"
        }
      ]
    },
    {
      "cell_type": "markdown",
      "metadata": {
        "id": "8nHpQ4N0N3Jb",
        "colab_type": "text"
      },
      "source": [
        "# Reading input from user---input function"
      ]
    },
    {
      "cell_type": "code",
      "metadata": {
        "id": "i3YlqvDlOD-B",
        "colab_type": "code",
        "colab": {
          "base_uri": "https://localhost:8080/",
          "height": 68
        },
        "outputId": "ef9fc8f9-77df-40cd-a9ce-9f911c325eb0"
      },
      "source": [
        "a = input(\"enter your name : \")\n",
        "print (a)\n",
        "print(type(a))"
      ],
      "execution_count": 28,
      "outputs": [
        {
          "output_type": "stream",
          "text": [
            "enter your name : Kumar\n",
            "Kumar\n",
            "<class 'str'>\n"
          ],
          "name": "stdout"
        }
      ]
    },
    {
      "cell_type": "code",
      "metadata": {
        "id": "x3edW3ltOO1U",
        "colab_type": "code",
        "colab": {
          "base_uri": "https://localhost:8080/",
          "height": 68
        },
        "outputId": "14bcb28f-742f-460a-c051-2aa674655109"
      },
      "source": [
        "b  = int(input(\"enter your age : \"))\n",
        "print (b)\n",
        "print (type(b))"
      ],
      "execution_count": 29,
      "outputs": [
        {
          "output_type": "stream",
          "text": [
            "enter your age : 19\n",
            "19\n",
            "<class 'int'>\n"
          ],
          "name": "stdout"
        }
      ]
    },
    {
      "cell_type": "markdown",
      "metadata": {
        "id": "q2T4L1HRPFmP",
        "colab_type": "text"
      },
      "source": [
        "# Operators\n",
        "- Operator is a symbol used to perform a specific kind of operations"
      ]
    },
    {
      "cell_type": "code",
      "metadata": {
        "id": "adRTAaM3OxzA",
        "colab_type": "code",
        "colab": {}
      },
      "source": [
        ""
      ],
      "execution_count": 0,
      "outputs": []
    },
    {
      "cell_type": "markdown",
      "metadata": {
        "id": "-c3YuAIHPcLs",
        "colab_type": "text"
      },
      "source": [
        "# Arithmetic operator\n",
        "- +\n",
        "- -\n",
        "- *\n",
        "- /\n",
        "- %\n",
        "- //\n",
        "- **"
      ]
    },
    {
      "cell_type": "code",
      "metadata": {
        "id": "xG0egqILPplE",
        "colab_type": "code",
        "colab": {
          "base_uri": "https://localhost:8080/",
          "height": 136
        },
        "outputId": "7f11421b-7e77-4cd0-e276-8f7a751ad54b"
      },
      "source": [
        "a = 1234\n",
        "print (a+10)\n",
        "print (a-10)\n",
        "print (a*10)\n",
        "print (a/10)\n",
        "print (a%10)\n",
        "print (a//10)\n",
        "print (a**10)"
      ],
      "execution_count": 31,
      "outputs": [
        {
          "output_type": "stream",
          "text": [
            "1244\n",
            "1224\n",
            "12340\n",
            "123.4\n",
            "4\n",
            "123\n",
            "8187505353567209228244052427776\n"
          ],
          "name": "stdout"
        }
      ]
    },
    {
      "cell_type": "code",
      "metadata": {
        "id": "cH54Xpb7QC1G",
        "colab_type": "code",
        "colab": {}
      },
      "source": [
        ""
      ],
      "execution_count": 0,
      "outputs": []
    },
    {
      "cell_type": "markdown",
      "metadata": {
        "id": "fIlUOMwMSAMs",
        "colab_type": "text"
      },
      "source": [
        "# Relational operator\n",
        "*  =\n",
        "*  == \n",
        "*  !=\n",
        "*  <\n",
        "* \" >\n",
        "*  <=\n",
        "* =>"
      ]
    },
    {
      "cell_type": "code",
      "metadata": {
        "id": "ambHRosJSNzD",
        "colab_type": "code",
        "colab": {
          "base_uri": "https://localhost:8080/",
          "height": 34
        },
        "outputId": "b16b198e-7339-4853-bf04-1d0be53bf22b"
      },
      "source": [
        "x  = 10\n",
        "a = x>15\n",
        "print (a)\n"
      ],
      "execution_count": 32,
      "outputs": [
        {
          "output_type": "stream",
          "text": [
            "False\n"
          ],
          "name": "stdout"
        }
      ]
    },
    {
      "cell_type": "code",
      "metadata": {
        "id": "ljKy8CwbTOp5",
        "colab_type": "code",
        "colab": {}
      },
      "source": [
        ""
      ],
      "execution_count": 0,
      "outputs": []
    },
    {
      "cell_type": "markdown",
      "metadata": {
        "id": "lwNTQuQYTRnP",
        "colab_type": "text"
      },
      "source": [
        "# Logical operators\n",
        "* and\n",
        "* or\n",
        "* not"
      ]
    },
    {
      "cell_type": "code",
      "metadata": {
        "id": "i1CexceiTac_",
        "colab_type": "code",
        "colab": {
          "base_uri": "https://localhost:8080/",
          "height": 68
        },
        "outputId": "9e5ab548-57b4-43a7-e452-953a52885a45"
      },
      "source": [
        "i = 100\n",
        "a1 = (i > 15) and (i < 800)\n",
        "a2 = (i > 15) or (i > 800)\n",
        "i = not 100\n",
        "print (a1)\n",
        "print (a2)\n",
        "print (i)"
      ],
      "execution_count": 36,
      "outputs": [
        {
          "output_type": "stream",
          "text": [
            "True\n",
            "True\n",
            "False\n"
          ],
          "name": "stdout"
        }
      ]
    },
    {
      "cell_type": "code",
      "metadata": {
        "id": "b34MQYbwT4Lz",
        "colab_type": "code",
        "colab": {}
      },
      "source": [
        ""
      ],
      "execution_count": 0,
      "outputs": []
    },
    {
      "cell_type": "markdown",
      "metadata": {
        "id": "QW658YzuUsFf",
        "colab_type": "text"
      },
      "source": [
        "# Control flow statements\n",
        "* Conditional statements\n",
        "* Looping statements\n"
      ]
    },
    {
      "cell_type": "code",
      "metadata": {
        "id": "CE4LRRc9U6Ns",
        "colab_type": "code",
        "colab": {}
      },
      "source": [
        ""
      ],
      "execution_count": 0,
      "outputs": []
    },
    {
      "cell_type": "markdown",
      "metadata": {
        "id": "WNwxkhweVDFN",
        "colab_type": "text"
      },
      "source": [
        "# if - else statement\n",
        "## syntax\n",
        "# if Boolean_condition\n",
        "# statements\n",
        "# else:\n",
        "# statements"
      ]
    },
    {
      "cell_type": "code",
      "metadata": {
        "id": "-swZO3DcVaOg",
        "colab_type": "code",
        "colab": {
          "base_uri": "https://localhost:8080/",
          "height": 51
        },
        "outputId": "22f26859-6676-4886-e224-90642cd9bc35"
      },
      "source": [
        "# to check given number is even or not\n",
        "n = int(input(\"enter a number\"))\n",
        "if n%2 == 0:\n",
        "  print (n,\"is a even number \")\n",
        "else:\n",
        "  print (n,\"is a odd number\")"
      ],
      "execution_count": 40,
      "outputs": [
        {
          "output_type": "stream",
          "text": [
            "enter a number568\n",
            "568 is a even number \n"
          ],
          "name": "stdout"
        }
      ]
    },
    {
      "cell_type": "code",
      "metadata": {
        "id": "W5u-YIsZWQ6a",
        "colab_type": "code",
        "colab": {
          "base_uri": "https://localhost:8080/",
          "height": 51
        },
        "outputId": "ee9e8ea1-9da9-4ec7-badb-e2ce206295b6"
      },
      "source": [
        "# to check a given is perfectly multiples of 3 and 5\n",
        "n = int(input(\"enter a number : \"))\n",
        "if n%3 == 0  and n%5 == 0:\n",
        " print (n,\"is a perfect multiple of 3 and 5\")\n",
        "else:\n",
        "  print (n,\"is not a multiple of 3 and 5\")"
      ],
      "execution_count": 48,
      "outputs": [
        {
          "output_type": "stream",
          "text": [
            "enter a number : 75\n",
            "75 is a perfect multiple of 3 and 5\n"
          ],
          "name": "stdout"
        }
      ]
    },
    {
      "cell_type": "code",
      "metadata": {
        "id": "FsdNxoQzXdz8",
        "colab_type": "code",
        "colab": {
          "base_uri": "https://localhost:8080/",
          "height": 51
        },
        "outputId": "7d50e29f-a9e3-47ec-d221-18bc448ef173"
      },
      "source": [
        "# to check that given number is positive or negative or zero\n",
        "n = int(input(\"enter a number : \"))\n",
        "if n>0:\n",
        "  print(n,\"is positive number\")\n",
        "else:\n",
        " if n<0:\n",
        "  print(n,\"is a negative number\")\n",
        " else:\n",
        "  print(n,\"is zero\")"
      ],
      "execution_count": 52,
      "outputs": [
        {
          "output_type": "stream",
          "text": [
            "enter a number : 0\n",
            "0 is zero\n"
          ],
          "name": "stdout"
        }
      ]
    },
    {
      "cell_type": "code",
      "metadata": {
        "id": "qNnajItZasis",
        "colab_type": "code",
        "colab": {
          "base_uri": "https://localhost:8080/",
          "height": 85
        },
        "outputId": "520f4bbc-0216-42af-9363-064895c4d766"
      },
      "source": [
        "# to print greater number\n",
        "a = int(input(\"enter a number a : \"))\n",
        "b = int(input(\"enter a number b : \"))\n",
        "c = int(input(\"enter a number c : \"))\n",
        "if a>b and a>c:\n",
        "  print(\"a is greater\")\n",
        "elif b>a and b>c:\n",
        " print(\"b is greater\")\n",
        "else:\n",
        "  print(\"c is greater\")"
      ],
      "execution_count": 58,
      "outputs": [
        {
          "output_type": "stream",
          "text": [
            "enter a number a : 5\n",
            "enter a number b : 6\n",
            "enter a number c : 7\n",
            "c is greater\n"
          ],
          "name": "stdout"
        }
      ]
    },
    {
      "cell_type": "code",
      "metadata": {
        "id": "ls_G4FRccJir",
        "colab_type": "code",
        "colab": {
          "base_uri": "https://localhost:8080/",
          "height": 51
        },
        "outputId": "a2364883-eafe-4404-d0d7-b0b3e25d25a9"
      },
      "source": [
        "# to find it is a leap year or not\n",
        "y = int(input(\"enter a year : \"))\n",
        "if (y%4 == 0 and y%100 != 0) or (y%100 == 0 and y%400 != 0):\n",
        "  print (y,\"is a leap year\")\n",
        "else:\n",
        "  print (y,\"is not a leap year\")"
      ],
      "execution_count": 64,
      "outputs": [
        {
          "output_type": "stream",
          "text": [
            "enter a year : 1900\n",
            "1900 is a leap year\n"
          ],
          "name": "stdout"
        }
      ]
    },
    {
      "cell_type": "code",
      "metadata": {
        "id": "pU-q4iEFd8jW",
        "colab_type": "code",
        "colab": {}
      },
      "source": [
        ""
      ],
      "execution_count": 0,
      "outputs": []
    }
  ]
}