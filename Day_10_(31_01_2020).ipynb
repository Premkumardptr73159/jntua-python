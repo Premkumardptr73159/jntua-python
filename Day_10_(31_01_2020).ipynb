{
  "nbformat": 4,
  "nbformat_minor": 0,
  "metadata": {
    "colab": {
      "name": "Day 10 (31/01/2020)",
      "provenance": [],
      "authorship_tag": "ABX9TyOUQ76gRY9qxW6Z8tEB8oJK",
      "include_colab_link": true
    },
    "kernelspec": {
      "name": "python3",
      "display_name": "Python 3"
    }
  },
  "cells": [
    {
      "cell_type": "markdown",
      "metadata": {
        "id": "view-in-github",
        "colab_type": "text"
      },
      "source": [
        "<a href=\"https://colab.research.google.com/github/Premkumardptr73159/jntua-python/blob/master/Day_10_(31_01_2020).ipynb\" target=\"_parent\"><img src=\"https://colab.research.google.com/assets/colab-badge.svg\" alt=\"Open In Colab\"/></a>"
      ]
    },
    {
      "cell_type": "code",
      "metadata": {
        "id": "cG7sCcekvA1U",
        "colab_type": "code",
        "colab": {}
      },
      "source": [
        ""
      ],
      "execution_count": 0,
      "outputs": []
    },
    {
      "cell_type": "markdown",
      "metadata": {
        "id": "WFf2uHhjxm9B",
        "colab_type": "text"
      },
      "source": [
        "# Loops\n",
        "* While loop\n",
        "* For loop"
      ]
    },
    {
      "cell_type": "code",
      "metadata": {
        "id": "B5eda89lxwOm",
        "colab_type": "code",
        "colab": {
          "base_uri": "https://localhost:8080/",
          "height": 204
        },
        "outputId": "937374c6-cda6-4539-b2a8-e3d2e7b6a171"
      },
      "source": [
        "# Print number from 1 to n\n",
        "# input 10\n",
        "# output 1 2 3 4 5 ..... 10\n",
        "n = int(input(\"enter a number : \"))\n",
        "i = 1\n",
        "while i<= n:\n",
        "  print (i)\n",
        "  i = i+1 "
      ],
      "execution_count": 1,
      "outputs": [
        {
          "output_type": "stream",
          "text": [
            "enter a number : 10\n",
            "1\n",
            "2\n",
            "3\n",
            "4\n",
            "5\n",
            "6\n",
            "7\n",
            "8\n",
            "9\n",
            "10\n"
          ],
          "name": "stdout"
        }
      ]
    },
    {
      "cell_type": "code",
      "metadata": {
        "id": "JidESVx2ytUG",
        "colab_type": "code",
        "colab": {
          "base_uri": "https://localhost:8080/",
          "height": 51
        },
        "outputId": "2c8f6ba3-bbc8-4e20-e37f-f0a1f01eb876"
      },
      "source": [
        "n = int(input(\"enter a number : \"))\n",
        "i = 1\n",
        "while i<= n:\n",
        "  print (i, end = \" \")\n",
        "  i = i+1 "
      ],
      "execution_count": 2,
      "outputs": [
        {
          "output_type": "stream",
          "text": [
            "enter a number : 10\n",
            "1 2 3 4 5 6 7 8 9 10 "
          ],
          "name": "stdout"
        }
      ]
    },
    {
      "cell_type": "code",
      "metadata": {
        "id": "ajqBRYhf0Iww",
        "colab_type": "code",
        "colab": {
          "base_uri": "https://localhost:8080/",
          "height": 51
        },
        "outputId": "1b610a5e-2e1e-4f3c-8b38-2aab55d49da6"
      },
      "source": [
        "# sum of even numbers\n",
        "n = int(input(\"enter a number : \"))\n",
        "i = 2\n",
        "sum = 0\n",
        "while i<=n:\n",
        "  sum = sum+i\n",
        "  i = i+2\n",
        "print (sum)"
      ],
      "execution_count": 37,
      "outputs": [
        {
          "output_type": "stream",
          "text": [
            "enter a number : 12\n",
            "42\n"
          ],
          "name": "stdout"
        }
      ]
    },
    {
      "cell_type": "code",
      "metadata": {
        "id": "B2_lr4cq3tD4",
        "colab_type": "code",
        "colab": {
          "base_uri": "https://localhost:8080/",
          "height": 102
        },
        "outputId": "6db220f0-a47d-420e-fbcc-ad920bfb0b59"
      },
      "source": [
        "# print a palindrome\n",
        "# input 123\n",
        "# output 321\n",
        "n = int(input(\"enter a number : \"))\n",
        "rem = 0\n",
        "num = 0\n",
        "while n>0:\n",
        "  rem = n%10\n",
        "  num = num*10+rem\n",
        "  n = n//10\n",
        "  print (num)"
      ],
      "execution_count": 44,
      "outputs": [
        {
          "output_type": "stream",
          "text": [
            "enter a number : 1234\n",
            "4\n",
            "43\n",
            "432\n",
            "4321\n"
          ],
          "name": "stdout"
        }
      ]
    },
    {
      "cell_type": "code",
      "metadata": {
        "id": "-Q1-njPu62d1",
        "colab_type": "code",
        "colab": {}
      },
      "source": [
        ""
      ],
      "execution_count": 0,
      "outputs": []
    },
    {
      "cell_type": "markdown",
      "metadata": {
        "id": "31WiaJ8O9Rlw",
        "colab_type": "text"
      },
      "source": [
        "# Functional programming\n",
        "* simple\n",
        "* easy to understand\n",
        "* better reusability\n",
        "* lengthy program will be divided into sub programs"
      ]
    },
    {
      "cell_type": "code",
      "metadata": {
        "id": "TRGKiGIP9_SQ",
        "colab_type": "code",
        "colab": {}
      },
      "source": [
        "def nameofthefunction(<parameter>):\n",
        "  statements\n",
        "  return"
      ],
      "execution_count": 0,
      "outputs": []
    },
    {
      "cell_type": "code",
      "metadata": {
        "id": "bUqZpFVE-VQZ",
        "colab_type": "code",
        "colab": {
          "base_uri": "https://localhost:8080/",
          "height": 34
        },
        "outputId": "bb066477-f448-4b94-896d-f141dcba5d86"
      },
      "source": [
        "# print sum of even number\n",
        "# input : 1234\n",
        "# output (2+4)=6\n",
        "def sumofevendigits(n):\n",
        "  s = 0\n",
        "  while n!=0:\n",
        "     r = n%10\n",
        "     if r%2 == 0:\n",
        "      s = s + r\n",
        "     n = n//10\n",
        "  return s\n",
        "sumofevendigits(1234) "
      ],
      "execution_count": 66,
      "outputs": [
        {
          "output_type": "execute_result",
          "data": {
            "text/plain": [
              "6"
            ]
          },
          "metadata": {
            "tags": []
          },
          "execution_count": 66
        }
      ]
    },
    {
      "cell_type": "code",
      "metadata": {
        "id": "iOOa8IExCO-E",
        "colab_type": "code",
        "colab": {
          "base_uri": "https://localhost:8080/",
          "height": 34
        },
        "outputId": "99fa4b0f-9658-4b69-c178-de2adb7d253c"
      },
      "source": [
        "# print largest digit\n",
        "# input : 19573\n",
        "# output : 9\n",
        "def largestdigit(n):\n",
        "  s = 0\n",
        "  t = 0\n",
        "  while(n!=0):\n",
        "    s=t\n",
        "    t=n%10\n",
        "    if(s>t):\n",
        "     t=s\n",
        "    n=n//10\n",
        "  return t\n",
        "largestdigit(19573)"
      ],
      "execution_count": 54,
      "outputs": [
        {
          "output_type": "execute_result",
          "data": {
            "text/plain": [
              "9"
            ]
          },
          "metadata": {
            "tags": []
          },
          "execution_count": 54
        }
      ]
    },
    {
      "cell_type": "code",
      "metadata": {
        "id": "AoOOXuZ0FXyZ",
        "colab_type": "code",
        "colab": {}
      },
      "source": [
        ""
      ],
      "execution_count": 0,
      "outputs": []
    },
    {
      "cell_type": "markdown",
      "metadata": {
        "id": "bFmBkodFIfbP",
        "colab_type": "text"
      },
      "source": [
        "# For loop\n"
      ]
    },
    {
      "cell_type": "code",
      "metadata": {
        "id": "rMet3vghI5Aw",
        "colab_type": "code",
        "colab": {}
      },
      "source": [
        "# syntax:\n",
        "for in range(start,stop,step):\n",
        "    statements"
      ],
      "execution_count": 0,
      "outputs": []
    },
    {
      "cell_type": "code",
      "metadata": {
        "id": "AHV4k-5YJCo_",
        "colab_type": "code",
        "colab": {
          "base_uri": "https://localhost:8080/",
          "height": 34
        },
        "outputId": "e556fcea-f411-4f30-c818-6ec0e460db24"
      },
      "source": [
        "# Using function print the numbers between limits\n",
        "# input : 11 25\n",
        "# output : 11 12 13 .... 23 24 25\n",
        "def printseries(fn,ln):\n",
        "  for i in range(fn,ln+1):\n",
        "    print(i,end=\" \")\n",
        "  return\n",
        "printseries(11,25)"
      ],
      "execution_count": 60,
      "outputs": [
        {
          "output_type": "stream",
          "text": [
            "11 12 13 14 15 16 17 18 19 20 21 22 23 24 25 "
          ],
          "name": "stdout"
        }
      ]
    },
    {
      "cell_type": "code",
      "metadata": {
        "id": "NRsEDh3uJ5qu",
        "colab_type": "code",
        "colab": {
          "base_uri": "https://localhost:8080/",
          "height": 34
        },
        "outputId": "9b68897d-33f3-49bc-e96b-3ed202efcfc9"
      },
      "source": [
        "def printseries1(fn,ln):\n",
        "  for i in range(fn,ln+1,4):\n",
        "    print(i,end=\" \")\n",
        "  return\n",
        "printseries1(500,520)"
      ],
      "execution_count": 67,
      "outputs": [
        {
          "output_type": "stream",
          "text": [
            "500 504 508 512 516 520 "
          ],
          "name": "stdout"
        }
      ]
    },
    {
      "cell_type": "code",
      "metadata": {
        "id": "QiEb5PFuLrmR",
        "colab_type": "code",
        "colab": {}
      },
      "source": [
        ""
      ],
      "execution_count": 0,
      "outputs": []
    },
    {
      "cell_type": "markdown",
      "metadata": {
        "id": "cnbv3R0IMxyg",
        "colab_type": "text"
      },
      "source": [
        "# Collection types\n",
        "* list\n",
        "* tuple\n",
        "* dictionary"
      ]
    },
    {
      "cell_type": "markdown",
      "metadata": {
        "id": "kF_t4eFrNAgv",
        "colab_type": "text"
      },
      "source": [
        "# List :\n",
        "* one of the data structure in python\n",
        "* Data structure means to store, sort and search options\n",
        "* Its one common data structure in python, the terms of list separated by comma and enclosed by square brackets\n",
        "* In list we can change values\n",
        "* eg :\n",
        "* list1 = [1,2,3,4,5] \n",
        "* list2 = [\"JNTUA\",\"DASD\",\"asds\"]\n"
      ]
    },
    {
      "cell_type": "code",
      "metadata": {
        "id": "8Di8WNa5OF5v",
        "colab_type": "code",
        "colab": {
          "base_uri": "https://localhost:8080/",
          "height": 136
        },
        "outputId": "5c747723-6e9f-4982-dab0-0a336a8d31d0"
      },
      "source": [
        "li = [1,5,2,8,4]\n",
        "print(li)\n",
        "print(li[2])\n",
        "print(li[-2])\n",
        "print(li[2:])\n",
        "print(li[2:4])\n",
        "print(li[-3:-1])\n",
        "print(li[::3])"
      ],
      "execution_count": 76,
      "outputs": [
        {
          "output_type": "stream",
          "text": [
            "[1, 5, 2, 8, 4]\n",
            "2\n",
            "8\n",
            "[2, 8, 4]\n",
            "[2, 8]\n",
            "[2, 8]\n",
            "[1, 8]\n"
          ],
          "name": "stdout"
        }
      ]
    },
    {
      "cell_type": "code",
      "metadata": {
        "id": "pgei-rMuPGQS",
        "colab_type": "code",
        "colab": {
          "base_uri": "https://localhost:8080/",
          "height": 68
        },
        "outputId": "74c8b883-e014-4ddd-f42f-1520b79df362"
      },
      "source": [
        "# update the list\n",
        "li = [\"JNTUA\",1,\"ATP\",3,5]\n",
        "print(li)\n",
        "li[1]=\"15\"\n",
        "print(li)\n",
        "#delete the item from the list\n",
        "del li[3]\n",
        "print(li)"
      ],
      "execution_count": 78,
      "outputs": [
        {
          "output_type": "stream",
          "text": [
            "['JNTUA', 1, 'ATP', 3, 5]\n",
            "['JNTUA', '15', 'ATP', 3, 5]\n",
            "['JNTUA', '15', 'ATP', 5]\n"
          ],
          "name": "stdout"
        }
      ]
    },
    {
      "cell_type": "code",
      "metadata": {
        "id": "M5ve6n8ub-On",
        "colab_type": "code",
        "colab": {
          "base_uri": "https://localhost:8080/",
          "height": 85
        },
        "outputId": "b6ac66d8-4152-4f68-99e1-ae4f76afebd7"
      },
      "source": [
        "# Basic list operations\n",
        "li = [1,2,3,4,5]\n",
        "print(len(li))\n",
        "print(li*2)\n",
        "print(4 in li)\n",
        "print(15 in li)\n"
      ],
      "execution_count": 81,
      "outputs": [
        {
          "output_type": "stream",
          "text": [
            "5\n",
            "[1, 2, 3, 4, 5, 1, 2, 3, 4, 5]\n",
            "True\n",
            "False\n"
          ],
          "name": "stdout"
        }
      ]
    },
    {
      "cell_type": "code",
      "metadata": {
        "id": "8hW6uu7Bdm_h",
        "colab_type": "code",
        "colab": {}
      },
      "source": [
        ""
      ],
      "execution_count": 0,
      "outputs": []
    },
    {
      "cell_type": "markdown",
      "metadata": {
        "id": "-6_xOZIoeCnr",
        "colab_type": "text"
      },
      "source": [
        "# List functions\n",
        "* maximum\n",
        "* minimum\n",
        "* sum\n",
        "* append\n",
        "* insert\n",
        "* count\n",
        "*index\n",
        "* sort\n",
        "* top\n",
        "\n",
        "\n"
      ]
    },
    {
      "cell_type": "code",
      "metadata": {
        "id": "PZGd4t27fQcw",
        "colab_type": "code",
        "colab": {}
      },
      "source": [
        ""
      ],
      "execution_count": 0,
      "outputs": []
    }
  ]
}